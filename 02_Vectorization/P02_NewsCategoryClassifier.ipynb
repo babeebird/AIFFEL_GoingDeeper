{
 "cells": [
  {
   "cell_type": "markdown",
   "id": "copyrighted-geneva",
   "metadata": {},
   "source": [
    "# NLP_GoingDeeper | PROJECT02. 뉴스카테고리 다중분류기 비교분석\n",
    "\n",
    "\n",
    "---\n",
    "**[ Introduce ]**\n",
    "- 로이터 뉴스 텍스트 데이터를 Bag of Words 가설을 기반으로 하는 TF-IDF Vectorizing을 하여 Machine Learning 모델의 입력으로 넣어 학습시킵니다.\n",
    "- Machine Learning Model로는 CNB, 로지스틱 회귀, 그래디언트 부스팅 트리, 보팅을 활용하여 학습학습하고 성능을 비교분석합니다. \n",
    "- 이때, 데이터의 전처리는 모델의 성능에 직접적인 영향을 줍니다.\n",
    "- 특히 Bag of Words를 기반으로 하는 DTM이나 TF-IDF의 경우, 사용하는 단어의 수는 성능에 큰 영향을 줄 수 있습니다. \n",
    "- 중요도가 낮은 단어들까지 포함해 너무 많은 단어를 사용하거나, 반대로 너무 적은 단어들을 사용하게 되면 성능이 저하될 수 있으며, 이렇게 변화된 단어의 수는 어떤 모델을 사용하느냐에 따라 유리할 수도, 불리할 수 도 있습니다. \n",
    "- **단어의 수(Vocab size)에 따라서 머신러닝모델의 성능이 어떻게 변하는지 테스트합니다.**\n",
    "\n",
    "\n",
    "\n",
    "    1. 모든 단어 사용 \n",
    "        - (x_train, y_train), (x_test, y_test) = reuters.load_data(num_words=None, test_split=0.2)\n",
    "    \n",
    "    \n",
    "    2. 빈도수 상위 5,000개 사용\n",
    "        - (x_train, y_train), (x_test, y_test) = reuters.load_data(num_words=5000, test_split=0.2)\n",
    "    \n",
    "    \n",
    "    3. 직접 단어 개수 설정해서 최소 3가지 경우 이상 실험(10000개, 1000개)\n",
    "\n",
    "\n",
    "- 위 과정을 통해 나온 최적의 모델과 단어 수 조건에서 LSTM 딥러닝 모델을 적용한 결과와 비교해보겠습니다. \n",
    "    - 공정한 비교를 위해 LSTM 모델의 입력으로 별다른 전처리 없이, padding 작업만 해서 넣어줍니다.  \n",
    "    - 공정한 비교를 위해 Word2Vec 등 pretrained model은 사용하지 않습니다.\n",
    "\n",
    "\n",
    "|평가문항|상세기준|\n",
    "|--|--|\n",
    "|분류 모델의 accuracy가 기준 이상 높게 나왔는가?|3가지 단어 개수에 대해 8가지 머신러닝 기법을 적용하여 그중 최적의 솔루션을 도출하였다.|\n",
    "|분류 모델의 F1 score가 기준 이상 높게 나왔는가?|Vocabulary size에 따른 각 머신러닝 모델의 성능변화 추이를 살피고, 해당 머신러닝 알고리즘의 특성에 근거해 원인을 분석하였다.|\n",
    "|딥러닝 모델을 활용해 성능이 비교 및 확인되었는가?|동일한 데이터셋과 전처리 조건으로 딥러닝 모델의 성능과 비교하여 결과에 따른 원인을 분석하였다.|"
   ]
  },
  {
   "cell_type": "code",
   "execution_count": 1,
   "id": "greek-leadership",
   "metadata": {},
   "outputs": [],
   "source": [
    "#- Data\n",
    "from tensorflow.keras.datasets import reuters\n",
    "import matplotlib.pyplot as plt\n",
    "import seaborn as sns\n",
    "import numpy as np\n",
    "import pandas as pd\n",
    "\n",
    "#- Vectorize\n",
    "from sklearn.feature_extraction.text import CountVectorizer\n",
    "from sklearn.feature_extraction.text import TfidfTransformer\n",
    "\n",
    "#- MachineLearning Model\n",
    "from sklearn.naive_bayes import MultinomialNB #- 다항분포 나이브 베이즈 모델\n",
    "from sklearn.linear_model import LogisticRegression, SGDClassifier\n",
    "from sklearn.naive_bayes import ComplementNB\n",
    "from sklearn.tree import DecisionTreeClassifier\n",
    "from sklearn.ensemble import RandomForestClassifier\n",
    "from sklearn.ensemble import GradientBoostingClassifier\n",
    "from sklearn.ensemble import VotingClassifier\n",
    "from sklearn.svm import LinearSVC\n",
    "from sklearn.metrics import accuracy_score #- 정확도 계산\n",
    "\n",
    "#- DeepLearning Model\n",
    "import tensorflow as tf\n",
    "from tensorflow import keras\n",
    "from keras.layers import LSTM, Dense\n",
    "from keras.layers import Embedding, Dropout\n",
    "from sklearn.model_selection import train_test_split\n",
    "from keras.callbacks import EarlyStopping, ModelCheckpoint\n",
    "from tensorflow.keras.utils import to_categorical\n",
    "from tensorflow.keras.preprocessing.sequence import pad_sequences\n",
    "\n",
    "#- metrics\n",
    "from sklearn.metrics import classification_report\n",
    "from sklearn.metrics import confusion_matrix"
   ]
  },
  {
   "cell_type": "code",
   "execution_count": 28,
   "id": "novel-tsunami",
   "metadata": {},
   "outputs": [],
   "source": [
    "def getData(vocab_size=None):\n",
    "\n",
    "    #- Data Load\n",
    "    (x_train,y_train),(x_test,y_test) = reuters.load_data(num_words=vocab_size, test_split=0.2)\n",
    "    \n",
    "    #- Vocabulary\n",
    "    word_index = reuters.get_word_index(path = \"reuters_word_index.json\")\n",
    "    index_to_word = {index+3: word for word,index in word_index.items()}\n",
    "    \n",
    "    #print(f\"단어장의 크기는 {len(word_index)}입니다. 우리가 사용할 단어는 {num_words}개입니다. \")\n",
    "    for index, token in enumerate((\"<pad>\",\"<sos>\",\"<unk>\")):\n",
    "        index_to_word[index]=token \n",
    "    \n",
    "    #- Sequence to text\n",
    "    def decode(sequence):\n",
    "        decoded = []\n",
    "        for i in range(len(sequence)):\n",
    "            t = ' '.join([index_to_word[index] for index in sequence[i]])\n",
    "            decoded.append(t)\n",
    "        return decoded\n",
    "\n",
    "    de_x_train = decode(x_train) \n",
    "    de_x_test = decode(x_test)\n",
    "    \n",
    "    #- Vectorize (TF-IDF)\n",
    "    dtmvector = CountVectorizer()\n",
    "    tfidf_transformer = TfidfTransformer()\n",
    "    \n",
    "    x_train_dtm = dtmvector.fit_transform(de_x_train)\n",
    "    tfidfv = tfidf_transformer.fit_transform(x_train_dtm)\n",
    "    \n",
    "    x_test_dtm = dtmvector.transform(de_x_test)\n",
    "    tfidfv_test = tfidf_transformer.transform(x_test_dtm)\n",
    "    \n",
    "    return x_train, y_train, x_test, y_test, tfidfv, tfidfv_test \n",
    "\n",
    "\n",
    "def check_data(x_train,x_test,y_train):\n",
    "    \n",
    "    #- 샘플 개수\n",
    "    print('훈련 샘플의 수: {}'.format(len(x_train)))\n",
    "    print('테스트 샘플의 수: {}'.format(len(x_test)))\n",
    "\n",
    "    #- 클래스 개수\n",
    "    num_classes = max(y_train)+1\n",
    "    print('클래스의 수: {}'.format(num_classes))\n",
    "    \n",
    "    #- 길이분포\n",
    "    print('훈련용 뉴스의 최대 길이 :{}'.format(max(len(l) for l in x_train)))\n",
    "    print('훈련용 뉴스의 평균 길이 :{}'.format(sum(map(len,x_train))/len(x_train)))\n",
    "    plt.hist([len(s) for s in x_train], bins=50)\n",
    "    plt.xlabel('length of samples')\n",
    "    plt.ylabel('number of samples')\n",
    "    plt.show()\n",
    "    \n",
    "    #- 클래스 분포\n",
    "    fig, axe = plt.subplots(ncols=1)\n",
    "    fig.set_size_inches(11,5)\n",
    "    sns.countplot(x=y_train)\n",
    "    plt.show()\n",
    "    \n",
    "    \n",
    "def learnMLmodel(model, tfidfv, y_train, tfidfv_test, y_test):\n",
    "    \n",
    "    #- 학습\n",
    "    model.fit(tfidfv, y_train) \n",
    "    \n",
    "    #- 테스트 데이터에 대한 예측\n",
    "    predicted = model.predict(tfidfv_test)\n",
    "    \n",
    "    #- 예측값과 실제값 비교\n",
    "    accuracy = accuracy_score(y_test, predicted)\n",
    "    print(\"\\n%s 의 정확도는 %.4f 입니다.\"%(model,accuracy))\n",
    "    \n",
    "    # test_idx = int(input(\"몇 번째 샘플을 예측하길 원하시나요? : \"))\n",
    "    test_idx = 1\n",
    "    test_txt = x_test[test_idx]\n",
    "    real_label = y_test[test_idx]\n",
    "    pred_label = model.predict(tfidfv_test[test_idx])\n",
    "    if real_label == pred_label:\n",
    "        print(f\"정답입니다!!!\\n실제값 : {real_label}\\n예측값 : {pred_label}\")\n",
    "    else:\n",
    "        print(f\"오답입니다.\\n실제값 : {real_label}\\n예측값 : {pred_label}\")\n",
    "    \n",
    "    probability = model.predict_proba(tfidfv_test[test_idx])[0]\n",
    "    predProb(model, probability)\n",
    "    \n",
    "    return predicted\n",
    "\n",
    "\n",
    "def predProb(model, probability):\n",
    "    plt.rcParams[\"figure.figsize\"] = (11,5)\n",
    "    plt.bar(model.classes_, probability)\n",
    "    plt.xlim(-1, 21)\n",
    "    plt.xticks(model.classes_)\n",
    "    plt.xlabel(\"Class\")\n",
    "    plt.ylabel(\"Probability\")\n",
    "    plt.show()\n",
    "\n",
    "\n",
    "def graph_confusion_matrix(model, x_test, y_test):\n",
    "    df_cm = pd.DataFrame(confusion_matrix(y_test, model.predict(x_test)))#, index=classes_name, columns=classes_name)\n",
    "    fig = plt.figure(figsize=(12,12))\n",
    "    heatmap = sns.heatmap(df_cm, annot=True, fmt=\"d\")\n",
    "    heatmap.yaxis.set_ticklabels(heatmap.yaxis.get_ticklabels(), rotation=0, ha='right', fontsize=12)\n",
    "    heatmap.xaxis.set_ticklabels(heatmap.xaxis.get_ticklabels(), rotation=45, ha='right', fontsize=12)\n",
    "    plt.ylabel('label')\n",
    "    plt.xlabel('predicted value')"
   ]
  },
  {
   "cell_type": "markdown",
   "id": "covered-coalition",
   "metadata": {},
   "source": [
    "- [분류 성능 평가](https://datascienceschool.net/03%20machine%20learning/09.04%20%EB%B6%84%EB%A5%98%20%EC%84%B1%EB%8A%A5%ED%8F%89%EA%B0%80.html)"
   ]
  },
  {
   "cell_type": "markdown",
   "id": "advanced-combination",
   "metadata": {},
   "source": [
    "# 1. 로이터 뉴스 데이터 로드\n",
    "- 로이터 뉴스 데이터는 총 46개의 클래스로 구성되며, 해당 뉴스가 어느 카테고리에 속하는지를 예측하기 위한 데이터입니다.\n",
    "- 텐서플로우 데이터셋에서 제공하고 있는 데이터로, 쉽게 다운로드가 가능합니다.\n",
    "- num_words 는 이 데이터에서 빈도수 기준으로 상위 몇 번째 단어까지 사용할 것인지를 조절합니다. 각 단어는 고유한 번호가 정해져 있는 상태이고, 이를 통해서 사용할 단어의 수를 정합니다.\n",
    "- 각 단어가 빈도수가 높은 순서대로 낮은 정수가 맵핑되어 있는데, 뉴스 데이터를 다운로드할 때는 단어가 아닌 해당 번호로 변환이 되어 출력됩니다.\n",
    "- 텐서플로우 데이터셋에서는 이미 전처리를 한 데이터를 제공해주는 셈입니다.\n",
    "- x_train과 x_test는 훈련용 뉴스 데이터와 테스트용 뉴스 데이터, y_train과 y_test는 훈련용 뉴스 데이터의 레이블과 테스트용 뉴스 데이터의 레이블입니다.\n",
    "- 훈련용 뉴스는 8,982개, 그리고 테스트용 뉴스는 2,246개가 있습니다.\n",
    "- 길이가 가장 긴 뉴스의 길이는 2,376이며, 평균 길이는 145입니다.\n",
    "- 이 뉴스 데이터는 3, 4번 클래스가 대부분을 차지하고 있으며, 그 뒤로 19, 16, 1, 11번 등이 높은 분포를 가지고 있습니다.\n",
    "- 수치적으로 살펴볼때, 3, 4번 클래스는 각 3,159개와 1,949개가 존재합니다. 그 뒤로는 549개로 19번 클래스가 세 번째로 많고, 16번 클래스가 444개로 네 번째로 많습니다.\n",
    "\n",
    "## 1-1. 모든 단어 사용\n",
    "- 30979개 단어를 사용합니다.  "
   ]
  },
  {
   "cell_type": "code",
   "execution_count": 3,
   "id": "expired-entertainment",
   "metadata": {
    "scrolled": false
   },
   "outputs": [
    {
     "name": "stderr",
     "output_type": "stream",
     "text": [
      "/opt/conda/lib/python3.7/site-packages/tensorflow/python/keras/datasets/reuters.py:148: VisibleDeprecationWarning: Creating an ndarray from ragged nested sequences (which is a list-or-tuple of lists-or-tuples-or ndarrays with different lengths or shapes) is deprecated. If you meant to do this, you must specify 'dtype=object' when creating the ndarray\n",
      "  x_train, y_train = np.array(xs[:idx]), np.array(labels[:idx])\n",
      "/opt/conda/lib/python3.7/site-packages/tensorflow/python/keras/datasets/reuters.py:149: VisibleDeprecationWarning: Creating an ndarray from ragged nested sequences (which is a list-or-tuple of lists-or-tuples-or ndarrays with different lengths or shapes) is deprecated. If you meant to do this, you must specify 'dtype=object' when creating the ndarray\n",
      "  x_test, y_test = np.array(xs[idx:]), np.array(labels[idx:])\n"
     ]
    }
   ],
   "source": [
    "x_train, y_train, x_test, y_test, tfidfv, tfidfv_test = getData()"
   ]
  },
  {
   "cell_type": "code",
   "execution_count": 4,
   "id": "positive-killing",
   "metadata": {},
   "outputs": [
    {
     "name": "stdout",
     "output_type": "stream",
     "text": [
      "훈련 샘플의 수: 8982\n",
      "테스트 샘플의 수: 2246\n",
      "클래스의 수: 46\n",
      "훈련용 뉴스의 최대 길이 :2376\n",
      "훈련용 뉴스의 평균 길이 :145.5398574927633\n"
     ]
    },
    {
     "data": {
      "image/png": "[encoded data removed]",
      "text/plain": [
       "<Figure size 432x288 with 1 Axes>"
      ]
     },
     "metadata": {
      "needs_background": "light"
     },
     "output_type": "display_data"
    },
    {
     "data": {
      "image/png": "[encoded data removed]",
      "text/plain": [
       "<Figure size 792x360 with 1 Axes>"
      ]
     },
     "metadata": {
      "needs_background": "light"
     },
     "output_type": "display_data"
    }
   ],
   "source": [
    "check_data(x_train,x_test,y_train)"
   ]
  },
  {
   "cell_type": "markdown",
   "id": "noble-lying",
   "metadata": {},
   "source": [
    "- 데이터 불균형이란 어떤 데이터에서 각 클래스(주로 범주형 변수)가 갖고 있는 데이터의 양에 차이가 큰 경우입니다. \n",
    "- 위 reuter 클래스 빈도 그래프를 살펴보면, 총 46개의 클래스 중에서, 클래스 3,4의 빈도는 3000이 넘고 그 다음으로 빈도가 높은 19,1,11,16의 경우 약 500의 빈도를 보입니다. 그 외의 클래스들의 빈도는 200 미만으로, 데이터의 큰 불균형을 확인할 수 있습니다.  \n",
    "- 따라서 성능평가 시, 데이터 불균형을 고려하지 않으면 정확한 평가가 불가능할 것으로 보입니다.\n",
    "- 데이터가 불균형한 경우, accuracy값은 편향의 함정에 빠지게 될 수 있습니다.\n",
    "- F1 score는 불균형 분류문제에서 평가척도로 주로 사용됩니다. \n",
    "\n",
    "### classification_report\n",
    "- scikitlearn의 metrics 패키지에서는 정밀도, 재현율, F1 점수를 구하는 classification_report를 제공합니다. \n",
    "- 정확도(accuracy) : 전체 샘플 중 맞게 예측한 샘플 수의 비율으로, 높을 수록 좋은 모형입니다. \n",
    "$$accuracy= {𝑇𝑃+𝑇𝑁 \\over 𝑇𝑃+𝑇𝑁+𝐹𝑃+𝐹𝑁}$$\n",
    "- 정밀도(precision) : 양성(positive) 클래스에 속한다고 출력한 샘플 중 실제도 양성 클래스에 속하는 샘플 수의 비율으로, 높을 수록 좋은 모형입니다. \n",
    "$$precision={𝑇𝑃 \\over 𝑇𝑃+𝐹𝑃}$$\n",
    "- 재현률(recall) : 실제 양성 클래스에 속한 표본 중에 양성 클래스에 속한다고 출력한 표본의 수의 비율로, 높을 수록 좋은 모형입니다. \n",
    "$$recall={𝑇𝑃 \\over 𝑇𝑃+𝐹𝑁}$$\n",
    "- 위양성율(fallout) : 실제 양성 클래스에 속하지 않는 표본 중에 양성 클래스에 속한다고 출력한 표본의 비율로, 낮을수록 좋은 모형입니다. \n",
    "$$fallout={𝐹𝑃 \\over 𝐹𝑃+𝑇𝑁}$$\n",
    "- F점수(F-score) : 정밀도와 재현율의 가중조화평균(weight harmonic average)입니다. 정밀도에 주어지는 가중치를 beta라고 할 때, beta가 1인경우를 특별히 F1점수라고 합니다. \n",
    "$$𝐹𝛽={(1+𝛽^2)(precision×recall) \\over (𝛽^2precision+recall)}$$\n",
    "$$𝐹1={2⋅precision⋅recall \\over (precision+recall)}$$\n",
    "    - F1 score는 Sensitivity와 Precision의 값이 서로다른 형태를 나타내는 불균형 상태이지만, 이를 조화평균함으로써, 큰 값의 크기에 대한 가중치를 낮추고, 작은 값에 더 맞춰주는 과정을 거쳐서 값의 크기 차이를 어느정도 상쇄하게 됩니다. \n",
    "    - 예를들어, input class가 Positive에 맞춰져 있어, 모델이 긍정에 대한 예측이 강한 분류기로 만들어졌다고 할때, F1 Score 평가척도를 구해서 올바르게 분류가 되었는지 성능을 측정할 수 있는 것입니다. \n",
    "---\n",
    "\n",
    "- micro: Calculate metrics globally by counting the total true positives, false negatives and false positives.\n",
    "    -  각 클래스에 대한 TP/FP/FN을 합한 뒤에 f1-score를 계산합니다. \n",
    "- macro: Calculate metrics for each label, and find their unweighted mean. This does not take label imbalance into account.\n",
    "    - 각 클래스에 따라 TP,FN,FP,TN값들을 이용해서 평가지표를 계산한 뒤 극 값들의 평균을 사용합니다. \n",
    "    - 각 레이블의 unweighted된 평균(레이블이 불균형한 멀티-클래스 분류 문제에서)을 계산합니다. 즉레이블의 불균형을 고려하지 않습니다.\n",
    "    - 모든 클래스에 동일한 가중치를 부여하여 분류기의 전반적인 성능을 평가합니다. 따라서 가장 빈도 높은 클래스 레이블의 성능이 중요합니다.\n",
    "- weighted: Calculate metrics for each label, and find their average weighted by support (the number of true instances for each label). This alters ‘macro’ to account for label imbalance; it can result in an F-score that is not between precision and recall.\n",
    "    - 각 클래스에 해당하는 데이터 개수에 가중치를 두어 평균을 구합니다. \n",
    "    - 각 클래스에 대한 f1-score를 계산한 뒤 각 클래스 별 데이터 비율에 따른 가중 평균을 내어 f1-score를 계산합니다. \n",
    "    - 각 레이블이 불균형해도, weight를 주어 평가지표를 계산합니다.\n",
    "- samples: Calculate metrics for each instance, and find their average (only meaningful for multilabel classification where this differs from accuracy_score.\n",
    "    \n",
    "    - 각 레이블의 평가지표를 평균 냅니다."
   ]
  },
  {
   "cell_type": "markdown",
   "id": "architectural-prairie",
   "metadata": {},
   "source": [
    "## 1-2. 빈도수 상위 10,000개의 단어만 사용"
   ]
  },
  {
   "cell_type": "code",
   "execution_count": 5,
   "id": "minute-treat",
   "metadata": {},
   "outputs": [
    {
     "name": "stderr",
     "output_type": "stream",
     "text": [
      "/opt/conda/lib/python3.7/site-packages/tensorflow/python/keras/datasets/reuters.py:148: VisibleDeprecationWarning: Creating an ndarray from ragged nested sequences (which is a list-or-tuple of lists-or-tuples-or ndarrays with different lengths or shapes) is deprecated. If you meant to do this, you must specify 'dtype=object' when creating the ndarray\n",
      "  x_train, y_train = np.array(xs[:idx]), np.array(labels[:idx])\n",
      "/opt/conda/lib/python3.7/site-packages/tensorflow/python/keras/datasets/reuters.py:149: VisibleDeprecationWarning: Creating an ndarray from ragged nested sequences (which is a list-or-tuple of lists-or-tuples-or ndarrays with different lengths or shapes) is deprecated. If you meant to do this, you must specify 'dtype=object' when creating the ndarray\n",
      "  x_test, y_test = np.array(xs[idx:]), np.array(labels[idx:])\n"
     ]
    }
   ],
   "source": [
    "x_train_10, y_train_10, x_test_10, y_test_10, tfidfv_10, tfidfv_test_10 = getData(10000)"
   ]
  },
  {
   "cell_type": "markdown",
   "id": "accepted-bride",
   "metadata": {},
   "source": [
    "## 1-3. 빈도수 상위 5,000개의 단어만 사용"
   ]
  },
  {
   "cell_type": "code",
   "execution_count": 6,
   "id": "honey-timing",
   "metadata": {},
   "outputs": [
    {
     "name": "stderr",
     "output_type": "stream",
     "text": [
      "/opt/conda/lib/python3.7/site-packages/tensorflow/python/keras/datasets/reuters.py:148: VisibleDeprecationWarning: Creating an ndarray from ragged nested sequences (which is a list-or-tuple of lists-or-tuples-or ndarrays with different lengths or shapes) is deprecated. If you meant to do this, you must specify 'dtype=object' when creating the ndarray\n",
      "  x_train, y_train = np.array(xs[:idx]), np.array(labels[:idx])\n",
      "/opt/conda/lib/python3.7/site-packages/tensorflow/python/keras/datasets/reuters.py:149: VisibleDeprecationWarning: Creating an ndarray from ragged nested sequences (which is a list-or-tuple of lists-or-tuples-or ndarrays with different lengths or shapes) is deprecated. If you meant to do this, you must specify 'dtype=object' when creating the ndarray\n",
      "  x_test, y_test = np.array(xs[idx:]), np.array(labels[idx:])\n"
     ]
    }
   ],
   "source": [
    "x_train_5, y_train_5, x_test_5, y_test_5, tfidfv_5, tfidfv_test_5 = getData(5000)"
   ]
  },
  {
   "cell_type": "markdown",
   "id": "wrapped-amplifier",
   "metadata": {},
   "source": [
    "## 1-4. 빈도수 상위 1000개의 단어만 사용"
   ]
  },
  {
   "cell_type": "code",
   "execution_count": 7,
   "id": "built-judges",
   "metadata": {
    "scrolled": false
   },
   "outputs": [
    {
     "name": "stderr",
     "output_type": "stream",
     "text": [
      "/opt/conda/lib/python3.7/site-packages/tensorflow/python/keras/datasets/reuters.py:148: VisibleDeprecationWarning: Creating an ndarray from ragged nested sequences (which is a list-or-tuple of lists-or-tuples-or ndarrays with different lengths or shapes) is deprecated. If you meant to do this, you must specify 'dtype=object' when creating the ndarray\n",
      "  x_train, y_train = np.array(xs[:idx]), np.array(labels[:idx])\n",
      "/opt/conda/lib/python3.7/site-packages/tensorflow/python/keras/datasets/reuters.py:149: VisibleDeprecationWarning: Creating an ndarray from ragged nested sequences (which is a list-or-tuple of lists-or-tuples-or ndarrays with different lengths or shapes) is deprecated. If you meant to do this, you must specify 'dtype=object' when creating the ndarray\n",
      "  x_test, y_test = np.array(xs[idx:]), np.array(labels[idx:])\n"
     ]
    }
   ],
   "source": [
    "x_train_1, y_train_1, x_test_1, y_test_1, tfidfv_1, tfidfv_test_1 = getData(1000)"
   ]
  },
  {
   "cell_type": "markdown",
   "id": "substantial-poultry",
   "metadata": {},
   "source": [
    "# 2. 머신러닝 모델 훈련"
   ]
  },
  {
   "cell_type": "code",
   "execution_count": 23,
   "id": "spoken-universal",
   "metadata": {},
   "outputs": [],
   "source": [
    "#- Complement Naive Bayes Classifier\n",
    "cb = ComplementNB()\n",
    "\n",
    "#- Logistic Regression\n",
    "lr = LogisticRegression(C=10000, penalty='l2')\n",
    "\n",
    "#- Gradient Boosting Classifier\n",
    "grbt = GradientBoostingClassifier(random_state=0) #- verbose=3\n",
    "\n",
    "#- soft voting\n",
    "voting_classifier = VotingClassifier(estimators=[\n",
    "    ('lr', LogisticRegression(C=10000, penalty='l2')),\n",
    "    ('cb', ComplementNB()),\n",
    "    ('grbt', GradientBoostingClassifier(random_state=0))\n",
    "], voting='soft', n_jobs=-1)"
   ]
  },
  {
   "cell_type": "markdown",
   "id": "optimum-texas",
   "metadata": {},
   "source": [
    "## 2-1. 모든 단어 사용"
   ]
  },
  {
   "cell_type": "code",
   "execution_count": null,
   "id": "south-truth",
   "metadata": {},
   "outputs": [],
   "source": [
    "# predicted = learnMLmodel(cb, tfidfv, y_train, tfidfv_test, y_test)\n",
    "# print(classification_report(y_test, predicted, zero_division=0))\n",
    "# # graph_confusion_matrix(cb, x_test, y_test)"
   ]
  },
  {
   "cell_type": "code",
   "execution_count": null,
   "id": "genuine-counter",
   "metadata": {},
   "outputs": [],
   "source": [
    "# predicted = learnMLmodel(lr, tfidfv, y_train, tfidfv_test, y_test)\n",
    "# print(classification_report(y_test, predicted, zero_division=0))\n",
    "# # graph_confusion_matrix(lr, x_test, y_test)"
   ]
  },
  {
   "cell_type": "code",
   "execution_count": null,
   "id": "signal-atlas",
   "metadata": {},
   "outputs": [],
   "source": [
    "# predicted = learnMLmodel(grbt, tfidfv, y_train, tfidfv_test, y_test)\n",
    "# print(classification_report(y_test, predicted, zero_division=0))\n",
    "# # graph_confusion_matrix(grbt, x_test, y_test)"
   ]
  },
  {
   "cell_type": "code",
   "execution_count": null,
   "id": "viral-chassis",
   "metadata": {
    "scrolled": true
   },
   "outputs": [],
   "source": [
    "# predicted = learnMLmodel(voting_classifier, tfidfv, y_train, tfidfv_test, y_test)\n",
    "# print(classification_report(y_test, predicted, zero_division=0))\n",
    "# # graph_confusion_matrix(voting_classifier, x_test, y_test)"
   ]
  },
  {
   "cell_type": "markdown",
   "id": "local-assistant",
   "metadata": {},
   "source": [
    "## 2-2. 빈도수 상위 10000개의 단어만 사용"
   ]
  },
  {
   "cell_type": "code",
   "execution_count": 24,
   "id": "insured-ribbon",
   "metadata": {},
   "outputs": [
    {
     "name": "stdout",
     "output_type": "stream",
     "text": [
      "\n",
      "ComplementNB() 의 정확도는 0.7707 입니다.\n",
      "정답입니다!!!\n",
      "실제값 : 10\n",
      "예측값 : [10]\n"
     ]
    },
    {
     "data": {
      "image/png": "[encoded data removed]",
      "text/plain": [
       "<Figure size 792x360 with 1 Axes>"
      ]
     },
     "metadata": {
      "needs_background": "light"
     },
     "output_type": "display_data"
    },
    {
     "name": "stdout",
     "output_type": "stream",
     "text": [
      "              precision    recall  f1-score   support\n",
      "\n",
      "           0       0.89      0.67      0.76        12\n",
      "           1       0.64      0.88      0.74       105\n",
      "           2       0.91      0.50      0.65        20\n",
      "           3       0.91      0.89      0.90       813\n",
      "           4       0.75      0.92      0.83       474\n",
      "           5       0.00      0.00      0.00         5\n",
      "           6       0.93      0.93      0.93        14\n",
      "           7       1.00      0.67      0.80         3\n",
      "           8       0.50      0.13      0.21        38\n",
      "           9       0.82      0.92      0.87        25\n",
      "          10       0.96      0.80      0.87        30\n",
      "          11       0.55      0.73      0.63        83\n",
      "          12       0.00      0.00      0.00        13\n",
      "          13       0.58      0.59      0.59        37\n",
      "          14       0.00      0.00      0.00         2\n",
      "          15       0.50      0.11      0.18         9\n",
      "          16       0.67      0.79      0.73        99\n",
      "          17       0.00      0.00      0.00        12\n",
      "          18       0.55      0.60      0.57        20\n",
      "          19       0.55      0.80      0.65       133\n",
      "          20       0.75      0.30      0.43        70\n",
      "          21       0.74      0.63      0.68        27\n",
      "          22       0.00      0.00      0.00         7\n",
      "          23       0.75      0.50      0.60        12\n",
      "          24       0.50      0.11      0.17        19\n",
      "          25       0.85      0.74      0.79        31\n",
      "          26       0.88      0.88      0.88         8\n",
      "          27       1.00      0.25      0.40         4\n",
      "          28       0.25      0.10      0.14        10\n",
      "          29       0.00      0.00      0.00         4\n",
      "          30       0.00      0.00      0.00        12\n",
      "          31       1.00      0.31      0.47        13\n",
      "          32       1.00      0.70      0.82        10\n",
      "          33       1.00      0.80      0.89         5\n",
      "          34       1.00      0.71      0.83         7\n",
      "          35       1.00      0.17      0.29         6\n",
      "          36       0.00      0.00      0.00        11\n",
      "          37       0.00      0.00      0.00         2\n",
      "          38       1.00      0.33      0.50         3\n",
      "          39       1.00      0.20      0.33         5\n",
      "          40       0.00      0.00      0.00        10\n",
      "          41       0.67      0.25      0.36         8\n",
      "          42       1.00      0.33      0.50         3\n",
      "          43       1.00      0.17      0.29         6\n",
      "          44       0.67      0.80      0.73         5\n",
      "          45       1.00      1.00      1.00         1\n",
      "\n",
      "    accuracy                           0.77      2246\n",
      "   macro avg       0.63      0.44      0.48      2246\n",
      "weighted avg       0.75      0.77      0.75      2246\n",
      "\n"
     ]
    }
   ],
   "source": [
    "predicted = learnMLmodel(cb, tfidfv_10, y_train_10, tfidfv_test_10, y_test_10)\n",
    "print(classification_report(y_test_10, predicted, zero_division=0))\n",
    "# graph_confusion_matrix(cb, x_test_10, y_test_10)"
   ]
  },
  {
   "cell_type": "code",
   "execution_count": 25,
   "id": "cardiac-kitchen",
   "metadata": {},
   "outputs": [
    {
     "name": "stderr",
     "output_type": "stream",
     "text": [
      "/opt/conda/lib/python3.7/site-packages/sklearn/linear_model/_logistic.py:762: ConvergenceWarning: lbfgs failed to converge (status=1):\n",
      "STOP: TOTAL NO. of ITERATIONS REACHED LIMIT.\n",
      "\n",
      "Increase the number of iterations (max_iter) or scale the data as shown in:\n",
      "    https://scikit-learn.org/stable/modules/preprocessing.html\n",
      "Please also refer to the documentation for alternative solver options:\n",
      "    https://scikit-learn.org/stable/modules/linear_model.html#logistic-regression\n",
      "  extra_warning_msg=_LOGISTIC_SOLVER_CONVERGENCE_MSG)\n"
     ]
    },
    {
     "name": "stdout",
     "output_type": "stream",
     "text": [
      "\n",
      "LogisticRegression(C=10000) 의 정확도는 0.8077 입니다.\n",
      "정답입니다!!!\n",
      "실제값 : 10\n",
      "예측값 : [10]\n"
     ]
    },
    {
     "data": {
      "image/png": "[encoded data removed]",
      "text/plain": [
       "<Figure size 792x360 with 1 Axes>"
      ]
     },
     "metadata": {
      "needs_background": "light"
     },
     "output_type": "display_data"
    },
    {
     "name": "stdout",
     "output_type": "stream",
     "text": [
      "              precision    recall  f1-score   support\n",
      "\n",
      "           0       0.89      0.67      0.76        12\n",
      "           1       0.75      0.78      0.76       105\n",
      "           2       0.74      0.85      0.79        20\n",
      "           3       0.92      0.93      0.93       813\n",
      "           4       0.81      0.87      0.84       474\n",
      "           5       0.00      0.00      0.00         5\n",
      "           6       0.92      0.86      0.89        14\n",
      "           7       1.00      0.67      0.80         3\n",
      "           8       0.68      0.71      0.69        38\n",
      "           9       0.81      0.84      0.82        25\n",
      "          10       0.93      0.87      0.90        30\n",
      "          11       0.64      0.73      0.68        83\n",
      "          12       0.57      0.31      0.40        13\n",
      "          13       0.59      0.59      0.59        37\n",
      "          14       0.50      0.50      0.50         2\n",
      "          15       0.67      0.44      0.53         9\n",
      "          16       0.68      0.75      0.71        99\n",
      "          17       0.75      0.75      0.75        12\n",
      "          18       0.86      0.60      0.71        20\n",
      "          19       0.68      0.68      0.68       133\n",
      "          20       0.62      0.49      0.54        70\n",
      "          21       0.63      0.81      0.71        27\n",
      "          22       0.00      0.00      0.00         7\n",
      "          23       0.64      0.58      0.61        12\n",
      "          24       0.62      0.53      0.57        19\n",
      "          25       0.95      0.68      0.79        31\n",
      "          26       1.00      0.88      0.93         8\n",
      "          27       1.00      0.25      0.40         4\n",
      "          28       0.57      0.40      0.47        10\n",
      "          29       0.57      1.00      0.73         4\n",
      "          30       0.88      0.58      0.70        12\n",
      "          31       0.78      0.54      0.64        13\n",
      "          32       1.00      0.80      0.89        10\n",
      "          33       0.80      0.80      0.80         5\n",
      "          34       0.75      0.43      0.55         7\n",
      "          35       1.00      0.33      0.50         6\n",
      "          36       0.36      0.36      0.36        11\n",
      "          37       0.50      0.50      0.50         2\n",
      "          38       0.50      0.33      0.40         3\n",
      "          39       0.00      0.00      0.00         5\n",
      "          40       0.75      0.30      0.43        10\n",
      "          41       0.83      0.62      0.71         8\n",
      "          42       1.00      1.00      1.00         3\n",
      "          43       0.75      1.00      0.86         6\n",
      "          44       0.67      0.80      0.73         5\n",
      "          45       1.00      1.00      1.00         1\n",
      "\n",
      "    accuracy                           0.81      2246\n",
      "   macro avg       0.71      0.62      0.64      2246\n",
      "weighted avg       0.80      0.81      0.80      2246\n",
      "\n"
     ]
    }
   ],
   "source": [
    "predicted = learnMLmodel(lr, tfidfv_10, y_train_10, tfidfv_test_10, y_test_10)\n",
    "print(classification_report(y_test_10, predicted, zero_division=0))\n",
    "# graph_confusion_matrix(lr, x_test_10, y_test_10)"
   ]
  },
  {
   "cell_type": "code",
   "execution_count": 26,
   "id": "empty-spoke",
   "metadata": {},
   "outputs": [
    {
     "name": "stdout",
     "output_type": "stream",
     "text": [
      "\n",
      "GradientBoostingClassifier(random_state=0) 의 정확도는 0.7667 입니다.\n",
      "정답입니다!!!\n",
      "실제값 : 10\n",
      "예측값 : [10]\n"
     ]
    },
    {
     "data": {
      "image/png": "[encoded data removed]",
      "text/plain": [
       "<Figure size 792x360 with 1 Axes>"
      ]
     },
     "metadata": {
      "needs_background": "light"
     },
     "output_type": "display_data"
    },
    {
     "name": "stdout",
     "output_type": "stream",
     "text": [
      "              precision    recall  f1-score   support\n",
      "\n",
      "           0       0.82      0.75      0.78        12\n",
      "           1       0.77      0.68      0.72       105\n",
      "           2       0.78      0.70      0.74        20\n",
      "           3       0.88      0.91      0.89       813\n",
      "           4       0.76      0.83      0.79       474\n",
      "           5       0.50      0.20      0.29         5\n",
      "           6       0.80      0.86      0.83        14\n",
      "           7       1.00      0.33      0.50         3\n",
      "           8       0.64      0.66      0.65        38\n",
      "           9       0.74      0.80      0.77        25\n",
      "          10       0.90      0.87      0.88        30\n",
      "          11       0.63      0.64      0.63        83\n",
      "          12       0.33      0.46      0.39        13\n",
      "          13       0.62      0.49      0.55        37\n",
      "          14       0.14      0.50      0.22         2\n",
      "          15       0.38      0.33      0.35         9\n",
      "          16       0.73      0.73      0.73        99\n",
      "          17       0.27      0.25      0.26        12\n",
      "          18       0.59      0.50      0.54        20\n",
      "          19       0.69      0.65      0.67       133\n",
      "          20       0.67      0.46      0.54        70\n",
      "          21       0.70      0.78      0.74        27\n",
      "          22       1.00      0.14      0.25         7\n",
      "          23       0.54      0.58      0.56        12\n",
      "          24       0.61      0.58      0.59        19\n",
      "          25       0.89      0.55      0.68        31\n",
      "          26       0.71      0.62      0.67         8\n",
      "          27       0.50      0.50      0.50         4\n",
      "          28       0.38      0.30      0.33        10\n",
      "          29       0.23      0.75      0.35         4\n",
      "          30       0.45      0.42      0.43        12\n",
      "          31       0.62      0.38      0.48        13\n",
      "          32       1.00      0.90      0.95        10\n",
      "          33       0.75      0.60      0.67         5\n",
      "          34       0.67      0.29      0.40         7\n",
      "          35       0.80      0.67      0.73         6\n",
      "          36       0.62      0.45      0.53        11\n",
      "          37       0.67      1.00      0.80         2\n",
      "          38       0.33      0.33      0.33         3\n",
      "          39       0.40      0.40      0.40         5\n",
      "          40       0.40      0.20      0.27        10\n",
      "          41       0.56      0.62      0.59         8\n",
      "          42       0.67      0.67      0.67         3\n",
      "          43       0.67      0.67      0.67         6\n",
      "          44       0.67      0.80      0.73         5\n",
      "          45       0.33      1.00      0.50         1\n",
      "\n",
      "    accuracy                           0.77      2246\n",
      "   macro avg       0.63      0.58      0.58      2246\n",
      "weighted avg       0.77      0.77      0.76      2246\n",
      "\n"
     ]
    }
   ],
   "source": [
    "predicted = learnMLmodel(grbt, tfidfv_10, y_train_10, tfidfv_test_10, y_test_10)\n",
    "print(classification_report(y_test_10, predicted, zero_division=0))\n",
    "# graph_confusion_matrix(grbt, x_test_10, y_test_10)"
   ]
  },
  {
   "cell_type": "code",
   "execution_count": 27,
   "id": "universal-program",
   "metadata": {},
   "outputs": [
    {
     "name": "stdout",
     "output_type": "stream",
     "text": [
      "\n",
      "VotingClassifier(estimators=[('lr', LogisticRegression(C=10000)),\n",
      "                             ('cb', ComplementNB()),\n",
      "                             ('grbt',\n",
      "                              GradientBoostingClassifier(random_state=0))],\n",
      "                 n_jobs=-1, voting='soft') 의 정확도는 0.8117 입니다.\n",
      "정답입니다!!!\n",
      "실제값 : 10\n",
      "예측값 : [10]\n"
     ]
    },
    {
     "data": {
      "image/png": "[encoded data removed]",
      "text/plain": [
       "<Figure size 792x360 with 1 Axes>"
      ]
     },
     "metadata": {
      "needs_background": "light"
     },
     "output_type": "display_data"
    },
    {
     "name": "stdout",
     "output_type": "stream",
     "text": [
      "              precision    recall  f1-score   support\n",
      "\n",
      "           0       0.90      0.75      0.82        12\n",
      "           1       0.77      0.74      0.76       105\n",
      "           2       0.73      0.80      0.76        20\n",
      "           3       0.92      0.94      0.93       813\n",
      "           4       0.83      0.88      0.85       474\n",
      "           5       1.00      0.20      0.33         5\n",
      "           6       0.86      0.86      0.86        14\n",
      "           7       1.00      0.67      0.80         3\n",
      "           8       0.70      0.68      0.69        38\n",
      "           9       0.81      0.84      0.82        25\n",
      "          10       0.93      0.90      0.92        30\n",
      "          11       0.65      0.69      0.67        83\n",
      "          12       0.46      0.46      0.46        13\n",
      "          13       0.68      0.62      0.65        37\n",
      "          14       0.14      0.50      0.22         2\n",
      "          15       0.57      0.44      0.50         9\n",
      "          16       0.72      0.75      0.73        99\n",
      "          17       0.53      0.67      0.59        12\n",
      "          18       0.79      0.55      0.65        20\n",
      "          19       0.68      0.69      0.68       133\n",
      "          20       0.62      0.49      0.54        70\n",
      "          21       0.65      0.81      0.72        27\n",
      "          22       1.00      0.14      0.25         7\n",
      "          23       0.60      0.75      0.67        12\n",
      "          24       0.67      0.63      0.65        19\n",
      "          25       0.95      0.68      0.79        31\n",
      "          26       0.88      0.88      0.88         8\n",
      "          27       0.67      0.50      0.57         4\n",
      "          28       0.44      0.40      0.42        10\n",
      "          29       0.40      1.00      0.57         4\n",
      "          30       0.67      0.50      0.57        12\n",
      "          31       0.75      0.46      0.57        13\n",
      "          32       1.00      1.00      1.00        10\n",
      "          33       0.80      0.80      0.80         5\n",
      "          34       0.75      0.43      0.55         7\n",
      "          35       1.00      0.67      0.80         6\n",
      "          36       0.56      0.45      0.50        11\n",
      "          37       0.67      1.00      0.80         2\n",
      "          38       0.50      0.33      0.40         3\n",
      "          39       0.50      0.40      0.44         5\n",
      "          40       0.67      0.20      0.31        10\n",
      "          41       0.80      0.50      0.62         8\n",
      "          42       0.75      1.00      0.86         3\n",
      "          43       0.67      1.00      0.80         6\n",
      "          44       0.67      0.80      0.73         5\n",
      "          45       0.50      1.00      0.67         1\n",
      "\n",
      "    accuracy                           0.81      2246\n",
      "   macro avg       0.71      0.66      0.66      2246\n",
      "weighted avg       0.81      0.81      0.81      2246\n",
      "\n"
     ]
    }
   ],
   "source": [
    "predicted = learnMLmodel(voting_classifier, tfidfv_10, y_train_10, tfidfv_test_10, y_test_10)\n",
    "print(classification_report(y_test_10, predicted, zero_division=0))\n",
    "# graph_confusion_matrix(voting_classifier, x_test_10, y_test_10)"
   ]
  },
  {
   "cell_type": "markdown",
   "id": "falling-conference",
   "metadata": {},
   "source": [
    "## 2-3. 빈도수 상위 5,000개의 단어만 사용"
   ]
  },
  {
   "cell_type": "code",
   "execution_count": null,
   "id": "temporal-processor",
   "metadata": {},
   "outputs": [],
   "source": [
    "# predicted = learnMLmodel(cb, tfidfv_5, y_train_5, tfidfv_test_5, y_test_5)\n",
    "# print(classification_report(y_test_5, predicted, zero_division=0))\n",
    "# # graph_confusion_matrix(cb, x_test_5, y_test_5)"
   ]
  },
  {
   "cell_type": "code",
   "execution_count": null,
   "id": "behavioral-quilt",
   "metadata": {},
   "outputs": [],
   "source": [
    "# predicted = learnMLmodel(lr, tfidfv_5, y_train_5, tfidfv_test_5, y_test_5)\n",
    "# print(classification_report(y_test_5, predicted, zero_division=0))\n",
    "# # graph_confusion_matrix(lr, x_test_5, y_test_5)"
   ]
  },
  {
   "cell_type": "code",
   "execution_count": null,
   "id": "about-village",
   "metadata": {},
   "outputs": [],
   "source": [
    "# predicted = learnMLmodel(grbt, tfidfv_5, y_train_5, tfidfv_test_5, y_test_5)\n",
    "# print(classification_report(y_test_5, predicted, zero_division=0))\n",
    "# # graph_confusion_matrix(grbt, x_test_5, y_test_5)"
   ]
  },
  {
   "cell_type": "code",
   "execution_count": null,
   "id": "stretch-experience",
   "metadata": {},
   "outputs": [],
   "source": [
    "# predicted = learnMLmodel(voting_classifier, tfidfv_5, y_train_5, tfidfv_test_5, y_test_5)\n",
    "# print(classification_report(y_test_5, predicted, zero_division=0))\n",
    "# # graph_confusion_matrix(voting_classifier, x_test_5, y_test_5)"
   ]
  },
  {
   "cell_type": "markdown",
   "id": "described-fusion",
   "metadata": {},
   "source": [
    "## 2-4. 빈도수 상위 1,000개의 단어만 사용"
   ]
  },
  {
   "cell_type": "code",
   "execution_count": null,
   "id": "weighted-horizon",
   "metadata": {},
   "outputs": [],
   "source": [
    "# predicted = learnMLmodel(cb, tfidfv_1, y_train_1, tfidfv_test_1, y_test_1)\n",
    "# print(classification_report(y_test_1, predicted, zero_division=0))\n",
    "# # graph_confusion_matrix(cb, x_test_1, y_test_1)"
   ]
  },
  {
   "cell_type": "code",
   "execution_count": null,
   "id": "laden-monkey",
   "metadata": {},
   "outputs": [],
   "source": [
    "# predicted = learnMLmodel(lr, tfidfv_1, y_train_1, tfidfv_test_1, y_test_1)\n",
    "# print(classification_report(y_test_1, predicted, zero_division=0))\n",
    "# # graph_confusion_matrix(lr, x_test_1, y_test_1)"
   ]
  },
  {
   "cell_type": "code",
   "execution_count": null,
   "id": "express-string",
   "metadata": {},
   "outputs": [],
   "source": [
    "# predicted = learnMLmodel(grbt, tfidfv_1, y_train_1, tfidfv_test_1, y_test_1)\n",
    "# print(classification_report(y_test_1, predicted, zero_division=0))\n",
    "# # graph_confusion_matrix(grbt, x_test_1, y_test_1)"
   ]
  },
  {
   "cell_type": "code",
   "execution_count": null,
   "id": "hundred-purse",
   "metadata": {},
   "outputs": [],
   "source": [
    "# predicted = learnMLmodel(voting_classifier, tfidfv_1, y_train_1, tfidfv_test_1, y_test_1)\n",
    "# print(classification_report(y_test_1, predicted, zero_division=0))\n",
    "# # graph_confusion_matrix(voting_classifier, x_test_1, y_test_1)"
   ]
  },
  {
   "cell_type": "markdown",
   "id": "visible-scanning",
   "metadata": {},
   "source": [
    "# 3. 머신러닝 성능 비교분석\n",
    "\n",
    "## 3-1. 모든 단어\n",
    "|model|accuracy|f1-score(accuracy/macro avg/weighted avg)|\n",
    "|--|--|--|\n",
    "|Complement Naive Bayes Classifier|0.7649|0.76/0.46/0.73|\n",
    "|Logistic Regression|0.8134|0.81/0.67/0.81|\n",
    "|Gradient Boosting Classifier|0.7703|0.77/0.57/0.76|\n",
    "|soft voting|0.8188|0.82/0.66/0.81|\n",
    "\n",
    "## 3-2. 빈도수 상위 10000개\n",
    "|model|accuracy|f1-score(accuracy/macro avg/weighted avg)|\n",
    "|--|--|--|\n",
    "|Complement Naive Bayes Classifier|0.7707|0.77/0.48/0.75|\n",
    "|Logistic Regression|0.8077|0.81/0.64/0.77|\n",
    "|Gradient Boosting Classifier|0.7667|0.77/0.58/0.76|\n",
    "|soft voting|0.8117|0.81/ 0.66/0.81|\n",
    "\n",
    "## 3-3. 빈도수 상위 5000개\n",
    "|model|accuracy|f1-score(accuracy/macro avg/weighted avg)|\n",
    "|--|--|--|\n",
    "|Complement Naive Bayes Classifier|0.7707|0.77/0.48/0.75|\n",
    "|Logistic Regression|0.8059|0.81/0.64/0.80|\n",
    "|Gradient Boosting Classifier|0.7676|0.77/0.58/0.77|\n",
    "|soft voting|0.8161|0.82/0.66/0.81|\n",
    "\n",
    "## 3-4. 빈도수 상위 1000개\n",
    "|model|accuracy|f1-score(accuracy/macro avg/weighted avg)|\n",
    "|--|--|--|\n",
    "|Complement Naive Bayes Classifier|0.7346|0.73/0.29/0.70|\n",
    "|Logistic Regression|0.7801|0.78/0.56/0.77|\n",
    "|Gradient Boosting Classifier|0.7458|0.75/0.42/0.74|\n",
    "|soft voting|0.7845|0.78/0.50/0.78|\n",
    "\n",
    "- 로이터 뉴스 데이터는 불균형한 클래스를 가집니다.\n",
    "- label이 불균형한 경우에는 단순히 accuracy 값을 비교하는 것으로는 부족하며, f1-score를 통해 성능을 정확하게 분석할 수 있습니다.\n",
    "- 최종 결과에서 각각이 의미하는 바는 다음과 같습니다.\n",
    "    - macro : 단순평균\n",
    "    - weighted : 각 클래스에 속하는 표본의 개수로 가중평균\n",
    "    - accuracy : 정확도, 전체 학습 데이터의 개수에서 클래스를 정확하게 맞춘 개수의 비율\n",
    "- 우선, 모든 단어수 항목의 머신러닝 모델 중에서 soft voting이 가장 높은 성능을 보이고 있습니다.\n",
    "- soft voting 모델은 complement naive bayes, Logistic, Gradient Boosting 모델을 활용했습니다.\n",
    "- 1000개 단어장 이외의 '모든 단어, 1000개, 5000개'에서 soft voting 모델은 비슷한 성능을 보입니다. \n",
    "- 모든 단어를 활용했을 때, f1-score(accuracy/macro avg/weighted avg) = 0.82/0.66/0.81 입니다."
   ]
  },
  {
   "cell_type": "markdown",
   "id": "dying-moisture",
   "metadata": {},
   "source": [
    "# 4. LSTM 딥러닝 학습\n",
    "- 데이터의 빈도수 상위 10,000개 단어를 단어장으로 설정했습니다. \n",
    "- 위 머신러닝 학습과 비교분석하기 위해, 별다른 전처리 없이 maxlen = 200으로 패딩 작업만 하여 입력값으로 넣어주었습니다."
   ]
  },
  {
   "cell_type": "code",
   "execution_count": 18,
   "id": "sensitive-pregnancy",
   "metadata": {},
   "outputs": [],
   "source": [
    "def LSTM(x_train, y_train, x_test, y_test, max_len=200, vocab_size=10000, word_vector_dim=128):\n",
    "    \n",
    "    x_train = pad_sequences(x_train, maxlen=max_len, padding='pre') # 훈련용 뉴스 기사 패딩\n",
    "    x_test = pad_sequences(x_test, maxlen=max_len, padding='pre') # 테스트용 뉴스 기사 패딩\n",
    "    \n",
    "    y_train = to_categorical(y_train) # 훈련용 뉴스 기사 레이블의 원-핫 인코딩\n",
    "    y_test = to_categorical(y_test) # 테스트용 뉴스 기사 레이블의 원-핫 인코딩\n",
    "    \n",
    "    partial_x_train, x_val, partial_y_train, y_val = train_test_split(x_train, y_train, test_size=0.20, random_state=0)\n",
    "    \n",
    "    model_lstm = keras.Sequential()\n",
    "    model_lstm.add(keras.layers.Embedding(vocab_size, word_vector_dim))\n",
    "    model_lstm.add(keras.layers.LSTM(128))   \n",
    "    model_lstm.add(keras.layers.Dropout(0.1))\n",
    "    model_lstm.add(keras.layers.Dense(46, activation='softmax')) \n",
    "\n",
    "    model_lstm.summary()\n",
    "   \n",
    "    \n",
    "    early_stopping = EarlyStopping(monitor = 'val_loss', mode = 'min', verbose = 1, patience = 3)\n",
    "    mc = ModelCheckpoint('best_model.h5', monitor='val_accuracy', mode='max', verbose=1, save_best_only=True)\n",
    "    \n",
    "    model_lstm.compile(optimizer='adam',\n",
    "                  loss='categorical_crossentropy',\n",
    "                  metrics=['accuracy'])\n",
    "    \n",
    "    history_lstm = model_lstm.fit(partial_x_train,\n",
    "                        partial_y_train,\n",
    "                        epochs=15,\n",
    "                        batch_size=128,\n",
    "                        validation_data=(x_val, y_val),\n",
    "                        callbacks=[early_stopping, mc])\n",
    "    \n",
    "    history_lstm_dict = history_lstm.history\n",
    "    model_results = model_lstm.evaluate(x_test, y_test, verbose=2)\n",
    "    return history_lstm_dict, model_results\n",
    "\n",
    "\n",
    "def plot_history(vocab_size, history_dict):\n",
    "    train_acc = history_dict['accuracy']\n",
    "    train_loss = history_dict['loss']\n",
    "    val_acc = history_dict['val_accuracy']\n",
    "    val_loss = history_dict['val_loss']\n",
    "    \n",
    "    epochs = range(1, len(train_acc) + 1)\n",
    "    plt.plot(epochs, train_loss)\n",
    "    plt.plot(epochs, train_acc)\n",
    "    plt.plot(epochs, val_loss)\n",
    "    plt.plot(epochs, val_acc)\n",
    "    plt.legend(['train_loss', 'train_accuracy', 'val_loss', 'val_accuracy'],loc='center right')\n",
    "    plt.title(f'LSTM_vocabsize={vocab_size}')\n",
    "    plt.show()"
   ]
  },
  {
   "cell_type": "code",
   "execution_count": 15,
   "id": "convenient-jesus",
   "metadata": {
    "scrolled": true
   },
   "outputs": [
    {
     "name": "stdout",
     "output_type": "stream",
     "text": [
      "문장길이 평균 :  145.96419665122906\n",
      "문장길이 최대 :  2376\n",
      "문장길이 표준편차 :  145.8784764459447\n",
      "pad_sequences maxlen :  437\n",
      "전체 문장의 0.9438902743142145%가 maxlen 설정값 이내에 포함됩니다. \n"
     ]
    }
   ],
   "source": [
    "total_data_text = list(x_train) + list(x_test)\n",
    "\n",
    "num_tokens = [len(tokens) for tokens in total_data_text]\n",
    "num_tokens = np.array(num_tokens)\n",
    "\n",
    "print('문장길이 평균 : ', np.mean(num_tokens))\n",
    "print('문장길이 최대 : ', np.max(num_tokens))\n",
    "print('문장길이 표준편차 : ', np.std(num_tokens))\n",
    "\n",
    "max_tokens = np.mean(num_tokens) + 2 * np.std(num_tokens)\n",
    "maxlen = int(max_tokens)\n",
    "print('pad_sequences maxlen : ', maxlen)\n",
    "print('전체 문장의 {}%가 maxlen 설정값 이내에 포함됩니다. '.format(np.sum(num_tokens < max_tokens) / len(num_tokens)))"
   ]
  },
  {
   "cell_type": "code",
   "execution_count": 19,
   "id": "emerging-violence",
   "metadata": {
    "scrolled": true
   },
   "outputs": [
    {
     "name": "stdout",
     "output_type": "stream",
     "text": [
      "Model: \"sequential_2\"\n",
      "_________________________________________________________________\n",
      "Layer (type)                 Output Shape              Param #   \n",
      "=================================================================\n",
      "embedding_2 (Embedding)      (None, None, 128)         1280000   \n",
      "_________________________________________________________________\n",
      "lstm_2 (LSTM)                (None, 128)               131584    \n",
      "_________________________________________________________________\n",
      "dropout_2 (Dropout)          (None, 128)               0         \n",
      "_________________________________________________________________\n",
      "dense_2 (Dense)              (None, 46)                5934      \n",
      "=================================================================\n",
      "Total params: 1,417,518\n",
      "Trainable params: 1,417,518\n",
      "Non-trainable params: 0\n",
      "_________________________________________________________________\n",
      "Epoch 1/15\n",
      "57/57 [==============================] - 5s 65ms/step - loss: 3.0974 - accuracy: 0.3052 - val_loss: 2.3062 - val_accuracy: 0.3790\n",
      "\n",
      "Epoch 00001: val_accuracy improved from -inf to 0.37896, saving model to best_model.h5\n",
      "Epoch 2/15\n",
      "57/57 [==============================] - 3s 55ms/step - loss: 2.1904 - accuracy: 0.4512 - val_loss: 2.0113 - val_accuracy: 0.5075\n",
      "\n",
      "Epoch 00002: val_accuracy improved from 0.37896 to 0.50751, saving model to best_model.h5\n",
      "Epoch 3/15\n",
      "57/57 [==============================] - 3s 55ms/step - loss: 2.0191 - accuracy: 0.4995 - val_loss: 1.9666 - val_accuracy: 0.5064\n",
      "\n",
      "Epoch 00003: val_accuracy did not improve from 0.50751\n",
      "Epoch 4/15\n",
      "57/57 [==============================] - 3s 56ms/step - loss: 1.8595 - accuracy: 0.5327 - val_loss: 1.7852 - val_accuracy: 0.5531\n",
      "\n",
      "Epoch 00004: val_accuracy improved from 0.50751 to 0.55314, saving model to best_model.h5\n",
      "Epoch 5/15\n",
      "57/57 [==============================] - 3s 55ms/step - loss: 1.6172 - accuracy: 0.5828 - val_loss: 1.9896 - val_accuracy: 0.5170\n",
      "\n",
      "Epoch 00005: val_accuracy did not improve from 0.55314\n",
      "Epoch 6/15\n",
      "57/57 [==============================] - 3s 55ms/step - loss: 1.8615 - accuracy: 0.4592 - val_loss: 1.6963 - val_accuracy: 0.5721\n",
      "\n",
      "Epoch 00006: val_accuracy improved from 0.55314 to 0.57206, saving model to best_model.h5\n",
      "Epoch 7/15\n",
      "57/57 [==============================] - 3s 56ms/step - loss: 1.5563 - accuracy: 0.6133 - val_loss: 1.6045 - val_accuracy: 0.6027\n",
      "\n",
      "Epoch 00007: val_accuracy improved from 0.57206 to 0.60267, saving model to best_model.h5\n",
      "Epoch 8/15\n",
      "57/57 [==============================] - 3s 55ms/step - loss: 1.4217 - accuracy: 0.6453 - val_loss: 1.5665 - val_accuracy: 0.6205\n",
      "\n",
      "Epoch 00008: val_accuracy improved from 0.60267 to 0.62048, saving model to best_model.h5\n",
      "Epoch 9/15\n",
      "57/57 [==============================] - 3s 55ms/step - loss: 1.2748 - accuracy: 0.6793 - val_loss: 1.5431 - val_accuracy: 0.6377\n",
      "\n",
      "Epoch 00009: val_accuracy improved from 0.62048 to 0.63773, saving model to best_model.h5\n",
      "Epoch 10/15\n",
      "57/57 [==============================] - 3s 55ms/step - loss: 1.1686 - accuracy: 0.7023 - val_loss: 1.4591 - val_accuracy: 0.6583\n",
      "\n",
      "Epoch 00010: val_accuracy improved from 0.63773 to 0.65832, saving model to best_model.h5\n",
      "Epoch 11/15\n",
      "57/57 [==============================] - 3s 55ms/step - loss: 1.0271 - accuracy: 0.7451 - val_loss: 1.4412 - val_accuracy: 0.6706\n",
      "\n",
      "Epoch 00011: val_accuracy improved from 0.65832 to 0.67056, saving model to best_model.h5\n",
      "Epoch 12/15\n",
      "57/57 [==============================] - 3s 55ms/step - loss: 0.9290 - accuracy: 0.7671 - val_loss: 1.4276 - val_accuracy: 0.6745\n",
      "\n",
      "Epoch 00012: val_accuracy improved from 0.67056 to 0.67446, saving model to best_model.h5\n",
      "Epoch 13/15\n",
      "57/57 [==============================] - 3s 55ms/step - loss: 0.7936 - accuracy: 0.8015 - val_loss: 1.4998 - val_accuracy: 0.6411\n",
      "\n",
      "Epoch 00013: val_accuracy did not improve from 0.67446\n",
      "Epoch 14/15\n",
      "57/57 [==============================] - 3s 55ms/step - loss: 0.7344 - accuracy: 0.8080 - val_loss: 1.4462 - val_accuracy: 0.6856\n",
      "\n",
      "Epoch 00014: val_accuracy improved from 0.67446 to 0.68559, saving model to best_model.h5\n",
      "Epoch 15/15\n",
      "57/57 [==============================] - 3s 56ms/step - loss: 0.5949 - accuracy: 0.8564 - val_loss: 1.5000 - val_accuracy: 0.6845\n",
      "\n",
      "Epoch 00015: val_accuracy did not improve from 0.68559\n",
      "Epoch 00015: early stopping\n",
      "71/71 - 1s - loss: 1.5170 - accuracy: 0.6687\n"
     ]
    }
   ],
   "source": [
    "history_lstm_dict, model_results = LSTM(x_train_10, y_train_10, x_test_10, y_test_10, 200, 10000,128)"
   ]
  },
  {
   "cell_type": "code",
   "execution_count": 20,
   "id": "powered-census",
   "metadata": {
    "scrolled": false
   },
   "outputs": [
    {
     "data": {
      "image/png": "[encoded data removed]",
      "text/plain": [
       "<Figure size 432x288 with 1 Axes>"
      ]
     },
     "metadata": {
      "needs_background": "light"
     },
     "output_type": "display_data"
    }
   ],
   "source": [
    "plot_history(10000, history_lstm_dict)"
   ]
  },
  {
   "cell_type": "code",
   "execution_count": 30,
   "id": "balanced-invite",
   "metadata": {
    "scrolled": true
   },
   "outputs": [
    {
     "data": {
      "text/plain": [
       "[1.5169650316238403, 0.6687444448471069]"
      ]
     },
     "execution_count": 30,
     "metadata": {},
     "output_type": "execute_result"
    }
   ],
   "source": [
    "model_results"
   ]
  },
  {
   "attachments": {
    "image.png": {
     "image/png": "[encoded data removed]"
    }
   },
   "cell_type": "markdown",
   "id": "genuine-fishing",
   "metadata": {},
   "source": [
    "# 5. 결과 분석\n",
    "\n",
    "- vocab_size=1000의 TF-IDF matrix를 입력으로 하여 LSTM모델에  실험을 해보았습니다. \n",
    "- 아래 이미지와 같이 전혀, 학습되지 않는 모습을 볼 수 있습니다.\n",
    "- sparse 하며 데이터의 크기가 너무 커서, vocab_size를 10,000으로 할 경우, 아예 학습이 진행되지 않았습니다.  \n",
    "- accuracy는 0.05, loss는 -5000에 가까워지는 것을 확인할 수 있습니다. \n",
    "![image.png](attachment:image.png)\n",
    "\n",
    "- LSTM의 입력으로 별다른 전처리 없이 maxlen=200 으로 padding 한 sequence를 넣었습니다. \n",
    "- LSTM의 학습결과, test loss 1.5170 - test accuracy: 0.6687 입니다.\n",
    "- Machine Learning voting model, f1-score weighted avg는 0.81 입니다.\n",
    "- 무조건 딥러닝 모델이 머신러닝 모델보다 더욱 성능이 좋은 것은 아니며, 데이터의 특성과 전처리 방법에 따라 적절한 모델로 학습해야한다는 것을 알 수 있습니다. \n",
    "- 머신러닝 모델 중에서는 soft voting 모델이 가장 좋은 성능을 보였습니다.\n",
    "- '백지장도 맞들면 낫다'는 속담이 있듯이 여러 모델의 결과물을 활용하는 것이 앙상블 기법의 비결입니다."
   ]
  }
 ],
 "metadata": {
  "kernelspec": {
   "display_name": "Python 3",
   "language": "python",
   "name": "python3"
  },
  "language_info": {
   "codemirror_mode": {
    "name": "ipython",
    "version": 3
   },
   "file_extension": ".py",
   "mimetype": "text/x-python",
   "name": "python",
   "nbconvert_exporter": "python",
   "pygments_lexer": "ipython3",
   "version": "3.7.9"
  }
 },
 "nbformat": 4,
 "nbformat_minor": 5
}
